{
 "cells": [
  {
   "cell_type": "code",
   "execution_count": 1,
   "metadata": {},
   "outputs": [],
   "source": [
    "import pickle\n",
    "import nltk\n",
    "import re\n",
    "import string\n",
    "from nltk.corpus import stopwords\n",
    "import contractions\n",
    "from collections import Counter\n",
    "from num2words import num2words\n",
    "import numpy as np\n",
    "import tweepy\n",
    "from sklearn.metrics import accuracy_score,confusion_matrix,classification_report"
   ]
  },
  {
   "cell_type": "code",
   "execution_count": 2,
   "metadata": {},
   "outputs": [],
   "source": [
    "with open('tweet_timeline_2.pkl','rb') as f:\n",
    "        tweet_timeline_dict = pickle.load(f)"
   ]
  },
  {
   "cell_type": "code",
   "execution_count": 3,
   "metadata": {},
   "outputs": [],
   "source": [
    "teams_hash_dict={\"#mi\":\"mumbai indians\",\"#csk\":\"chennai super kings\",\"#rcb\":\"royal challengers bangalore\",\"#kxip\":\"kings xi punjab\",\n",
    "            \"#kkr\":\"kolkata knight riders\",\"#dc\":\"delhi capitals\",\"#srh\":\"sunrisers hyderabad\",\"#rr\":\"rajasthan royals\",\"#delhicapitals\":\"delhi capitals\"}"
   ]
  },
  {
   "cell_type": "code",
   "execution_count": 4,
   "metadata": {},
   "outputs": [
    {
     "name": "stdout",
     "output_type": "stream",
     "text": [
      "2019-03-23  #chinnathala @imraina wins the race against virat kohli to become the first batsman to scale 5000 #vivoipl runs #cskvrcb\n",
      "2019-03-24 youngest to take five-fers in ipl: #srhvsmi #ipl2019 21y 204d j unadkat rcb v dd delhi 2013 22y 137d a joseph mi v srh hyderabad 2019 * 22y 237d i sharma dc v ktk kochi 2011\n",
      "2019-03-25 big. big. controversy. jos buttler mankaded by ashwin -- and it is not the first time it is happening to buttler in his career. remember, senanayake? meanwhile at jaipur tempers are flying high in the royals' camp ..  #ipl2019 #rrvkxip\n",
      "2019-03-26 mishra forces the set raina to edge to pant, csk 98/3. msd walks out to a big roar.  #ipl2019 #dcvcsk\n",
      "2019-03-27 yorked! russell is bowled, but wait... kings xi penalised for not having the required number of fielders inside the 30-yard circle  #kkrvkxip #ipl2019\n",
      "2019-03-28 when bumrah bowled to de villiers and kohli, everything took a backseat as the fans watched in awe. it was not bullying. it was never meant to be. it was mesmerising. @akashs08 has more on the fascinating battle:  #ipl2019 #rcbvmi\n",
      "2019-03-29 sanju samson takes bhuvi to the cleaners in the 18th over  #srhvrr #ipl2019\n",
      "2019-03-30 quickest 20+ scores by hardik pandya in ipl #mivcsk #ipl2019 25* (8) vs csk (mumbai) tonight (s/r 312.50) 29* (11) vs kkr (mumbai) 2017 (s/r 263.64) 21* (8) vs csk (pune) 2015 (s/r 262.50)\n",
      "2019-03-31  defending champions @chennaiipl will face off against @rcbtweets in the opening fixture of vivo ipl 2019 - preview by @statanalyst \n",
      "2019-04-01 a loose drive spells the end of sarfaraz khan, a key breakthrough by sandeep lamichhane #kxipvdc #ipl2019 \n",
      "2019-04-02 shreyas gopal vs ab de villiers: 3 innings 27 balls 21 runs 3 dismissals sr 77.78 #ipl2019 #rrvrcb\n",
      "2019-04-03 what does it take to stall the chennai super kings juggernaut on a three-match undefeated streak? a debutant, an anchor and hardik pandya  #mivcsk #ipl2019\n",
      "2019-04-04 fewest balls to 50 for dc in ipl: 17 c morris v gl, delhi, 2016 18 r pant v mi, mumbai ws, 2019 * 20 v sehwag v rr, jaipur, 2012 21 v sehwag v rr, ahmedabad, 2010 #mivdc #ipl2019\n",
      "2019-04-05 dre russ just how good are you! @kkriders win by 5 wickets #rcbvkkr #vivoipl\n",
      "2019-04-06 \"there was a lot of dew and the entire ground was wet, the ball was getting wet. due to this batting became easier in the second half than the first half.\" - sandeep sharma #kxipvsrh #ipl2019 \n",
      "2019-04-07 .@lynny50 and mom on debut @gurneyhf pose for an #iplselfie after sending @kkriders up top in the #vivoipl points table stay tuned to watch this duo discuss lynny's lucky escape and harry's introduction! #rrvkkr\n",
      "2019-04-08 powerplay -- wd 1 0 1 0 0 0 -- 0 wd 0 2l wd w 0 4 -- 3l 1 0 0 0 2 -- 1 0 0 0 0 0 -- 1 1 0 0 1 4 -- 0 0 1 1 0 0 srh: 27-1 | warner: 9(17) | shankar: 9(13) #ipl2019 #kxipvsrh\n",
      "2019-04-09 fantastic spell by tahir: 4-0-27-4 #ipl2019 #kkrvcsk\n",
      "2019-04-10 malinga has linked up with the mumbai squad once again, but will he be able to displace alzarri joseph from the playing xi? after a quiet last couple of innings, can gayle find his rhythm again at wankhede? @ganeshcee previews #mivkxip:  #ipl2019\n",
      "2019-04-11 ms dhoni's innings first 30 balls: 33 next 16 balls: 42 #cskvrr #ipl2019 \n",
      "2019-04-12 harbhajan singh completes his quota of overs. 4 overs | 20 runs | 3 wickets #ipl2019 #cskvrcb\n",
      "2019-04-13 another howler from ulhas gandhe! it was a clear overhead wide and gandhe did not even signal it as 'one bouncer for the over'! horrible umpiring! #kxipvrcb #ipl2019\n",
      "2019-04-14 innings break! oh boy, what a clinical performance this has been from @chennaiipl as they restrict kolkata knight riders to a total of 108/9. dre russ with an unbeaten fifty \n",
      "2019-04-15 going from strength to strength, is virat kohli the ipl's greatest one-club player!?  #rcbvmi #ipl2019\n",
      "2019-04-16 19:20 ist: moises henriques makes his kxip debut, replaces david miller. 19:30 ist: henriques gets injured just before toss, david miller replaces him. #ipl #ipl2019 #kxipvrr\n"
     ]
    }
   ],
   "source": [
    "for key,val in tweet_timeline_dict.items():\n",
    "    val=val.lower()\n",
    "    for team in list(teams_hash_dict):\n",
    "        val=re.sub(\"{} \".format(team),\"{} \".format(teams_hash_dict[team]),val)\n",
    "    tweet_timeline_dict[key]=val\n",
    "    print(key,val)"
   ]
  },
  {
   "cell_type": "code",
   "execution_count": 5,
   "metadata": {},
   "outputs": [],
   "source": [
    "#connection to Twitter API using tweepy\n",
    "\n",
    "consumer_key = \"CtmrTSUsnIRHKSgj4ktqK4NKb\"\n",
    "consumer_secret = \"1MNfKmptTsrJcq7WMYxOoVwEgFCK5DNMQeC43IZDkPucPObCnZ\"\n",
    "access_key = \"1231240089600057344-rqYnkeVvMaB1XwfvrERfI7aF38r69L\"\n",
    "access_secret = \"KmRfAoexHxfkHKJaC3hwB0sgtfocyz58IqdzYiWeaXSGO\"\n",
    "# Authorization to consumer key and consumer secret\n",
    "auth = tweepy.OAuthHandler(consumer_key, consumer_secret)\n",
    "\n",
    "# Access to user's access key and access secret\n",
    "auth.set_access_token(access_key, access_secret)\n",
    "\n",
    "# Calling api\n",
    "api = tweepy.API(auth)"
   ]
  },
  {
   "cell_type": "code",
   "execution_count": 6,
   "metadata": {},
   "outputs": [],
   "source": [
    "def get_username(username):\n",
    "    # 200 tweets to be extracted\n",
    "    #number_of_tweets=1\n",
    "    try:\n",
    "        tweets = api.user_timeline(screen_name=username)\n",
    "\n",
    "        #tweets_for_csv = [tweet.text for tweet in tweets]  # CSV file created\n",
    "        for tweet in tweets:\n",
    "            #print(tweet)\n",
    "            return tweet._json['user']['name']\n",
    "    except tweepy.error.TweepError:\n",
    "        return None"
   ]
  },
  {
   "cell_type": "code",
   "execution_count": 7,
   "metadata": {},
   "outputs": [],
   "source": [
    "teams_dict={\"mi\":\"mumbai indians\",\"csk\":\"chennai super kings\",\"rcb\":\"royal challengers bangalore\",\"kxip\":\"kings xi punjab\",\n",
    "            \"kkr\":\"kolkata knight riders\",\"dc\":\"delhi capitals\",\"srh\":\"sunrisers hyderabad\",\"rr\":\"rajasthan royals\"}"
   ]
  },
  {
   "cell_type": "code",
   "execution_count": 8,
   "metadata": {},
   "outputs": [],
   "source": [
    "punct=string.punctuation\n",
    "english_stopwords=stopwords.words('english')"
   ]
  },
  {
   "cell_type": "code",
   "execution_count": 9,
   "metadata": {},
   "outputs": [],
   "source": [
    "for key,val in tweet_timeline_dict.items():\n",
    "        final_tokens = []\n",
    "\n",
    "        #remove url from tweet text \n",
    "        tweet_text=re.sub(r\"(http|https)\\S+\", \"\", val)\n",
    "        tweet_text=re.sub(r'\\B#\\w*[a-zA-Z]+\\w*',\"\",tweet_text)\n",
    "\n",
    "        #Fix contractions\n",
    "        tweet_text=contractions.fix(tweet_text)\n",
    "        #print(tweet_text)\n",
    "\n",
    "\n",
    "        #tokenize\n",
    "        token_list=nltk.word_tokenize(tweet_text)\n",
    "        i=0\n",
    "        while i<len(token_list):\n",
    "            if(token_list[i]=='@'): #replace twitter handle with screen name\n",
    "                temp=token_list[i]+token_list[i+1]\n",
    "                #print(temp)\n",
    "                if get_username(temp) is not None:\n",
    "                    #print(get_username(temp))\n",
    "                    temp_list=nltk.word_tokenize(get_username(temp))\n",
    "                    for t in temp_list:\n",
    "                        final_tokens.append(t.lower())\n",
    "                i=i+1\n",
    "            #elif token_list[i].isnumeric(): #ignore digits from token list\n",
    "            #    temp = num2words(token_list[i])\n",
    "                #final_tokens.append(temp)\n",
    "            #    i=i+1\n",
    "            else:\n",
    "                flag=1\n",
    "                #remove punctuation from each string \n",
    "                str_temp = token_list[i].translate(str.maketrans('', '', punct))\n",
    "                #print(str_temp)\n",
    "\n",
    "                #convert to lower case\n",
    "                str_temp=str_temp.lower()\n",
    "\n",
    "                #replace team abbreviations with team name\n",
    "                for team,team_name in teams_dict.items():\n",
    "                    if str_temp==team:\n",
    "                        temp_list = nltk.word_tokenize(team_name)\n",
    "                        for t in temp_list:\n",
    "                             final_tokens.append(t)\n",
    "                        flag=0\n",
    "                if flag==0:\n",
    "                    i=i+1\n",
    "                    continue\n",
    "\n",
    "                #stop word and punctuation tokens removal\n",
    "                if str_temp not in english_stopwords:\n",
    "                    #str_temp = str_temp.replace(\"'\", \"\")\n",
    "                    final_tokens.append(str_temp)\n",
    "                i+=1\n",
    "        tweet_timeline_dict[key]=final_tokens"
   ]
  },
  {
   "cell_type": "code",
   "execution_count": 10,
   "metadata": {},
   "outputs": [],
   "source": [
    "with open('model_2_evaluation_data.pkl','rb') as f:\n",
    "        schedule_dict = pickle.load(f)"
   ]
  },
  {
   "cell_type": "code",
   "execution_count": 11,
   "metadata": {},
   "outputs": [],
   "source": [
    "prefix_list=[\"mumbai\",\"indians\",\"chennai\",\"super\",\"kings\",\"royal\",\"challengers\",\"bangalore\",\"kings\",\"xi\",\"kolkata\",\"knight\",\"riders\",\"delhi\",\"capitals\",\"sunrisers\",\"hyderabad\",\"rajasthan\",\"royals\"]"
   ]
  },
  {
   "cell_type": "code",
   "execution_count": 12,
   "metadata": {},
   "outputs": [
    {
     "name": "stdout",
     "output_type": "stream",
     "text": [
      "76.0% match with ground truth\n"
     ]
    }
   ],
   "source": [
    "matches=0\n",
    "y_pred=[]\n",
    "y_true=[\"Match\" for x in range(len(list(tweet_timeline_dict)))]\n",
    "for key,val in tweet_timeline_dict.items():\n",
    "    intersect=set(val).intersection(set(schedule_dict[key]))\n",
    "    flag=1\n",
    "    #if(len(intersect)>3):\n",
    "    #    matches+=1\n",
    "    #else:\n",
    "    for v in list(set(intersect)):\n",
    "        if v not in prefix_list:\n",
    "            flag=0;\n",
    "    if flag==0 and len(intersect)!=0:\n",
    "        matches+=1\n",
    "        y_pred.append(\"Match\")\n",
    "    else:\n",
    "        y_pred.append(\"No Match\")\n",
    "    #else:\n",
    "    #    print(key,intersect,len(intersect))\n",
    "print(\"{}% match with ground truth\".format(matches/len(list(tweet_timeline_dict))*100))"
   ]
  },
  {
   "cell_type": "code",
   "execution_count": 13,
   "metadata": {},
   "outputs": [
    {
     "name": "stdout",
     "output_type": "stream",
     "text": [
      "Accuracy:  76.0 %\n"
     ]
    }
   ],
   "source": [
    "print(\"Accuracy: \",accuracy_score(y_true, y_pred)*100,\"%\")"
   ]
  },
  {
   "cell_type": "code",
   "execution_count": 14,
   "metadata": {},
   "outputs": [
    {
     "name": "stdout",
     "output_type": "stream",
     "text": [
      "Confusion Matrix: \n",
      " [[19  6]\n",
      " [ 0  0]]\n"
     ]
    }
   ],
   "source": [
    "print(\"Confusion Matrix: \\n\",confusion_matrix(y_true, y_pred))"
   ]
  },
  {
   "cell_type": "code",
   "execution_count": 15,
   "metadata": {},
   "outputs": [
    {
     "name": "stdout",
     "output_type": "stream",
     "text": [
      "Classification Report: \n",
      "               precision    recall  f1-score   support\n",
      "\n",
      "       Match       1.00      0.76      0.86        25\n",
      "    No Match       0.00      0.00      0.00         0\n",
      "\n",
      "    accuracy                           0.76        25\n",
      "   macro avg       0.50      0.38      0.43        25\n",
      "weighted avg       1.00      0.76      0.86        25\n",
      "\n"
     ]
    },
    {
     "name": "stderr",
     "output_type": "stream",
     "text": [
      "C:\\Users\\aksha\\Anaconda3\\lib\\site-packages\\sklearn\\metrics\\_classification.py:1272: UndefinedMetricWarning: Recall and F-score are ill-defined and being set to 0.0 in labels with no true samples. Use `zero_division` parameter to control this behavior.\n",
      "  _warn_prf(average, modifier, msg_start, len(result))\n"
     ]
    }
   ],
   "source": [
    "print(\"Classification Report: \\n\",classification_report(y_true, y_pred))"
   ]
  }
 ],
 "metadata": {
  "kernelspec": {
   "display_name": "Python 3",
   "language": "python",
   "name": "python3"
  },
  "language_info": {
   "codemirror_mode": {
    "name": "ipython",
    "version": 3
   },
   "file_extension": ".py",
   "mimetype": "text/x-python",
   "name": "python",
   "nbconvert_exporter": "python",
   "pygments_lexer": "ipython3",
   "version": "3.7.3"
  }
 },
 "nbformat": 4,
 "nbformat_minor": 2
}
