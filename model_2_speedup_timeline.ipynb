{
 "cells": [
  {
   "cell_type": "code",
   "execution_count": 1,
   "metadata": {},
   "outputs": [],
   "source": [
    "import pickle\n",
    "import pandas as pd\n",
    "import time\n",
    "import numpy as np"
   ]
  },
  {
   "cell_type": "code",
   "execution_count": 2,
   "metadata": {},
   "outputs": [],
   "source": [
    "source_list = [\"@IPL\", \"@ESPNcricinfo\", \"@cricbuzz\", \"@Cricketracker\", \"@circleofcricket\"]"
   ]
  },
  {
   "cell_type": "code",
   "execution_count": 3,
   "metadata": {},
   "outputs": [],
   "source": [
    "def cosine_similarity(vect1,vect2):\n",
    "    return np.dot(vect1,vect2)/(np.linalg.norm(vect1)*np.linalg.norm(vect2))"
   ]
  },
  {
   "cell_type": "code",
   "execution_count": 4,
   "metadata": {},
   "outputs": [],
   "source": [
    "def jaccard_similarity(list1,list2):\n",
    "    doc_intersection=len(set(list1).intersection(set(list2)))\n",
    "    return (doc_intersection)/(len(set(list1))+len(set(list2))-doc_intersection)"
   ]
  },
  {
   "cell_type": "code",
   "execution_count": 5,
   "metadata": {},
   "outputs": [],
   "source": [
    "with open('contextual_vector.pkl','rb') as f:\n",
    "        contextual_vector_dict = pickle.load(f)"
   ]
  },
  {
   "cell_type": "code",
   "execution_count": 6,
   "metadata": {},
   "outputs": [],
   "source": [
    "common_terms=['win','won','romp','wins','team','season','game','like','toss','wicket','match','xi','vs','runs','four','six','dot','ball','overs','innings','vivoipl','ipl','balls','run']"
   ]
  },
  {
   "cell_type": "code",
   "execution_count": 7,
   "metadata": {},
   "outputs": [],
   "source": [
    "with open('model_1_evaluation_data.pkl','rb') as f:\n",
    "        schedule_dict = pickle.load(f)"
   ]
  },
  {
   "cell_type": "code",
   "execution_count": 8,
   "metadata": {},
   "outputs": [],
   "source": [
    "for key,val in contextual_vector_dict.items():\n",
    "    temp=[]\n",
    "    for v in val:\n",
    "        if v[0]==\"raina🇮🇳\":\n",
    "            temp.append(\"raina\")\n",
    "        elif v[0] not in common_terms:\n",
    "            temp.append(v[0])\n",
    "    if key in list(schedule_dict):\n",
    "        #print(temp)\n",
    "        val=schedule_dict[key]\n",
    "        for v in val:\n",
    "            if len(v)>1 and v not in common_terms and v not in temp:\n",
    "                    temp.append(v)\n",
    "    contextual_vector_dict[key]=temp"
   ]
  },
  {
   "cell_type": "code",
   "execution_count": 9,
   "metadata": {},
   "outputs": [],
   "source": [
    "tweet_df = pd.read_csv(\"model_2_vector.csv\") "
   ]
  },
  {
   "cell_type": "code",
   "execution_count": 10,
   "metadata": {},
   "outputs": [],
   "source": [
    "with open('tweet_dict_model_2.pkl','rb') as f:\n",
    "        tweet_dict = pickle.load(f)"
   ]
  },
  {
   "cell_type": "code",
   "execution_count": 11,
   "metadata": {},
   "outputs": [],
   "source": [
    "with open('tweet_tokens_dict_model_2.pkl','rb') as f:\n",
    "        tweet_tokens_dict = pickle.load(f)"
   ]
  },
  {
   "cell_type": "code",
   "execution_count": 12,
   "metadata": {},
   "outputs": [],
   "source": [
    "with open('cluster_dict_model_2.pkl','rb') as f:\n",
    "        clus_dict = pickle.load(f)"
   ]
  },
  {
   "cell_type": "code",
   "execution_count": 13,
   "metadata": {},
   "outputs": [
    {
     "name": "stdout",
     "output_type": "stream",
     "text": [
      "TIMELINE\n",
      "---------------------------\n",
      " #ChinnaThala @ImRaina wins the race against Virat Kohli to become the first batsman to scale 5000 #VIVOIPL runs #CSKvRCB\n",
      "----------------------------------\n",
      "Youngest to take five-fers in IPL: #SRHvsMI #IPL2019 21y 204d J Unadkat RCB v DD Delhi 2013 22y 137d A JOSEPH MI v SRH Hyderabad 2019 * 22y 237d I Sharma DC v KTK Kochi 2011\n",
      "----------------------------------\n",
      "BIG. BIG. CONTROVERSY. Jos Buttler mankaded by Ashwin -- And it is not the first time it is happening to Buttler in his career. Remember, Senanayake? Meanwhile at Jaipur tempers are flying high in the Royals' camp ..  #IPL2019 #RRvKXIP\n",
      "----------------------------------\n",
      "Mishra forces the set Raina to edge to Pant, CSK 98/3. MSD walks out to a big roar.  #IPL2019 #DCvCSK\n",
      "----------------------------------\n",
      "Yorked! Russell is bowled, but wait... Kings XI penalised for not having the required number of fielders inside the 30-yard circle  #KKRvKXIP #IPL2019\n",
      "----------------------------------\n",
      "When Bumrah bowled to de Villiers and Kohli, everything took a backseat as the fans watched in awe. It was not bullying. It was never meant to be. It was mesmerising. @AkashS08 has more on the fascinating battle:  #IPL2019 #RCBvMI\n",
      "----------------------------------\n",
      "Sanju Samson takes Bhuvi to the cleaners in the 18th over  #SRHvRR #IPL2019\n",
      "----------------------------------\n",
      "Quickest 20+ scores by Hardik Pandya in IPL #MIvCSK #IPL2019 25* (8) vs CSK (Mumbai) tonight (S/r 312.50) 29* (11) vs KKR (Mumbai) 2017 (S/r 263.64) 21* (8) vs CSK (Pune) 2015 (S/r 262.50)\n",
      "----------------------------------\n",
      "Suresh Raina becomes the first player to score 5000 runs in #IPL #CSKvRCB #IPL2019\n",
      "----------------------------------\n",
      "A loose drive spells the end of Sarfaraz Khan, a key breakthrough by Sandeep Lamichhane #KXIPvDC #IPL2019 \n",
      "----------------------------------\n",
      "Shreyas Gopal vs AB de Villiers: 3 innings 27 balls 21 runs 3 dismissals SR 77.78 #IPL2019 #RRvRCB\n",
      "----------------------------------\n",
      "What does it take to stall the Chennai Super Kings juggernaut on a three-match undefeated streak? A debutant, an anchor and Hardik Pandya  #MIvCSK #IPL2019\n",
      "----------------------------------\n",
      "Fewest balls to 50 for DC in IPL: 17 C Morris v GL, Delhi, 2016 18 R PANT v MI, Mumbai WS, 2019 * 20 V Sehwag v RR, Jaipur, 2012 21 V Sehwag v RR, Ahmedabad, 2010 #MIvDC #IPL2019\n",
      "----------------------------------\n",
      "Dre Russ Just how good are you! @KKRiders win by 5 wickets #RCBvKKR #VIVOIPL\n",
      "----------------------------------\n",
      "\"There was a lot of dew and the entire ground was wet, the ball was getting wet. Due to this batting became easier in the second half than the first half.\" - Sandeep Sharma #KXIPvSRH #IPL2019 \n",
      "----------------------------------\n",
      ".@lynny50 and MoM on debut @gurneyhf pose for an #IPLSelfie after sending @KKRiders up top in the #VIVOIPL points table Stay tuned to watch this duo discuss Lynny's lucky escape and Harry's introduction! #RRvKKR\n",
      "----------------------------------\n",
      "Man-of-the-Match @klrahul11 clicks a selfie with #KXIP co-owner @realpreityzinta after the match in Mohali. #KXIPvSRH #IPL2019\n",
      "----------------------------------\n",
      "Fantastic spell by Tahir: 4-0-27-4 #IPL2019 #KKRvCSK\n",
      "----------------------------------\n",
      "#MumbaiIndians clearly seem to be @klrahul11's favourite opponent in the IPL. #MIvKXIP #IPL2019\n",
      "----------------------------------\n",
      "The men who were there to complete the dramatic victory smile for the #IPLSelfie. Not had enough of the last over drama? Stay tuned for an exclusive chat with @imjadeja and Mitchell Santner #RRvCSK\n",
      "----------------------------------\n",
      "Harbhajan Singh completes his quota of overs. 4 overs | 20 runs | 3 wickets #IPL2019 #CSKvRCB\n",
      "----------------------------------\n",
      "Team changes: For #RCB IN - Marcus Stoinis, Akshdeep Nath, Navdeep Saini OUT - Colin de Grandhomme, Shivam Dube, Prayas Barman For #RR IN - Stuart Binny, Varun Aaron OUT - Sanju Samson, Jaydev Unadkat #RRvRCB #IPL2019\n",
      "----------------------------------\n",
      "If poor shots were not bad enough, a silly run out now. Kuldeep falls! #CSKvKKR #IPL2019 \n",
      "----------------------------------\n",
      "Kohli: We are playing at #IPL level, not club cricket. that is a ridiculous call. it is the last ball and the umpires should have their eyes open, was a no-ball by an inch. If it is a game of margins I do not know what is happening. They should have been more sharp and careful #RCBvMI\n",
      "----------------------------------\n",
      "19:20 IST: Moises Henriques makes his KXIP debut, replaces David Miller. 19:30 IST: Henriques gets injured just before toss, David Miller replaces him. #IPL #IPL2019 #KXIPvRR\n",
      "----------------------------------\n",
      "Time taken = 0.32799363136291504 seconds\n"
     ]
    }
   ],
   "source": [
    "#tweet_list=[key for key,val in sorted(dict(filter(lambda x:x[1][1]>=0.5,tweet_dict.items())).items(),key=lambda x: x[1][1],reverse=True)]\n",
    "index=0\n",
    "clus_dict_copy={}\n",
    "start = time.time()\n",
    "print(\"TIMELINE\")\n",
    "print(\"---------------------------\")\n",
    "for key,val in clus_dict.items():\n",
    "    clus_dict_copy[key]=val\n",
    "temp=[]\n",
    "for key,val in contextual_vector_dict.items():\n",
    "    #print(val)\n",
    "    index=index+1\n",
    "    #if index!=len(list(contextual_vector_dict)):\n",
    "    if index>25:\n",
    "          break\n",
    "    contextual_vector=[1 for x in range(len(val))]\n",
    "    max_score=0\n",
    "    tweet_list=list(clus_dict_copy)\n",
    "    best_tweet_ID=tweet_list[0]\n",
    "    for tweetID in set(tweet_list):\n",
    "        vector=[0 for x in range(len(val))]\n",
    "        tokens_list=tweet_tokens_dict[tweetID]\n",
    "        if \"raina🇮🇳\" in tokens_list:\n",
    "            tokens_list[tokens_list.index(\"raina🇮🇳\")]=\"raina\"\n",
    "        for i,v in enumerate(val):\n",
    "            if v in set(tokens_list):\n",
    "                vector[i]=1\n",
    "        cosine_score=0\n",
    "        total_score=0\n",
    "        if sum(vector)>2:\n",
    "            cosine_score=cosine_similarity(contextual_vector,vector) \n",
    "            total_score=cosine_score#+0.5*tweet_dict[tweetID][1]\n",
    "            #if cosine_score>=0.3:\n",
    "        \n",
    "        '''\n",
    "        print(val)\n",
    "        print(tweet_tokens_dict[tweetID])\n",
    "        print(vector)\n",
    "        print(\"Cosine score:\",cosine_score)\n",
    "        print(\"Tweet quality score:\",tweet_dict[tweetID][1])\n",
    "        print(tweet_dict[tweetID][0])\n",
    "        print(total_score)\n",
    "        print(\"---------------------------\")\n",
    "        '''\n",
    "\n",
    "        if max_score<total_score:\n",
    "            max_score=total_score\n",
    "            best_tweet_ID=tweetID\n",
    "            temp=vector\n",
    "    del clus_dict_copy[best_tweet_ID]\n",
    "    print(tweet_dict[best_tweet_ID][0])\n",
    "    print(\"----------------------------------\")\n",
    "    #print(val)\n",
    "    #print(tweet_tokens_dict[best_tweet_ID])\n",
    "end = time.time()\n",
    "print(\"Time taken = {} seconds\".format(end-start))"
   ]
  }
 ],
 "metadata": {
  "kernelspec": {
   "display_name": "Python 3",
   "language": "python",
   "name": "python3"
  },
  "language_info": {
   "codemirror_mode": {
    "name": "ipython",
    "version": 3
   },
   "file_extension": ".py",
   "mimetype": "text/x-python",
   "name": "python",
   "nbconvert_exporter": "python",
   "pygments_lexer": "ipython3",
   "version": "3.7.3"
  }
 },
 "nbformat": 4,
 "nbformat_minor": 2
}
